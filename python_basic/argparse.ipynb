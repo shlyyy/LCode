{
 "cells": [
  {
   "cell_type": "markdown",
   "metadata": {},
   "source": [
    "# 简介"
   ]
  },
  {
   "cell_type": "markdown",
   "metadata": {},
   "source": [
    "argparse 模块是 Python 标准库中提供的一个 命令行解析模块 ，它可以让使用者以类似 Unix/Linux 命令参数的方式输入参数（在终端以命令行的方式指定参数），argparse 会自动将命令行指定的参数解析为 Python 变量，从而让使用者更加快捷的处理参数。\n",
    "\n",
    "模块使用方法："
   ]
  },
  {
   "cell_type": "code",
   "execution_count": 14,
   "metadata": {},
   "outputs": [
    {
     "name": "stderr",
     "output_type": "stream",
     "text": [
      "usage: notebook_name [-h] [-i INPUT]\n",
      "notebook_name: error: unrecognized arguments: -gf jingjing pizza --house 1 --modelname model_A\n"
     ]
    },
    {
     "ename": "SystemExit",
     "evalue": "2",
     "output_type": "error",
     "traceback": [
      "An exception has occurred, use %tb to see the full traceback.\n",
      "\u001b[1;31mSystemExit\u001b[0m\u001b[1;31m:\u001b[0m 2\n"
     ]
    }
   ],
   "source": [
    "import argparse\n",
    "\n",
    "# 创建 ArgumentParser 对象\n",
    "parser = argparse.ArgumentParser(description=\"description\")\n",
    "\n",
    "# 添加参数\n",
    "parser.add_argument(\"-i\", \"--input\", help=\"Input file\")\n",
    "\n",
    "# 解析命令行参数\n",
    "args = parser.parse_args()\n",
    "\n",
    "# 使用参数\n",
    "print(\"Input file:\", args.input)"
   ]
  },
  {
   "cell_type": "markdown",
   "metadata": {},
   "source": [
    "报错原因  \n",
    "1. argparse 和 Jupyter Notebook 的参数冲突：在 Jupyter Notebook 中运行时，argparse 试图解析的参数是 Notebook 启动时的命令行参数，而不是在代码中期望的参数。\n",
    "2. SystemExit 异常：当 argparse 遇到无法解析的参数时，会调用 sys.exit()，这在 Jupyter Notebook 中引发了 SystemExit 异常。\n",
    "\n",
    "解决方案：可以使用以下两种方法来避免此问题：\n",
    "\n",
    "方法 1: 使用 argparse 的 parse_args 方法传入空列表  \n",
    "可以在调用 parse_args() 时传入一个空列表来避免从命令行解析参数。"
   ]
  },
  {
   "cell_type": "code",
   "execution_count": 15,
   "metadata": {},
   "outputs": [
    {
     "name": "stdout",
     "output_type": "stream",
     "text": [
      "Input file: None\n"
     ]
    }
   ],
   "source": [
    "import argparse\n",
    "\n",
    "# 创建 ArgumentParser 对象\n",
    "parser = argparse.ArgumentParser(description=\"description\")\n",
    "\n",
    "# 添加参数\n",
    "parser.add_argument(\"-i\", \"--input\", help=\"Input file\")\n",
    "\n",
    "# 解析命令行参数, 传入空列表表示不从命令行获取参数\n",
    "args = parser.parse_args([])\n",
    "\n",
    "# 使用参数\n",
    "print(\"Input file:\", args.input)"
   ]
  },
  {
   "cell_type": "markdown",
   "metadata": {},
   "source": [
    "方法 2: 使用 Jupyter 的 argparse 特性  \n",
    "使用 Jupyter 提供的 argparse 特性，可以在解析参数之前删除不需要的参数："
   ]
  },
  {
   "cell_type": "code",
   "execution_count": 16,
   "metadata": {},
   "outputs": [
    {
     "name": "stdout",
     "output_type": "stream",
     "text": [
      "Input file: None\n"
     ]
    }
   ],
   "source": [
    "import argparse\n",
    "import sys\n",
    "\n",
    "# 创建 ArgumentParser 对象\n",
    "parser = argparse.ArgumentParser(description=\"description\")\n",
    "\n",
    "# 添加参数\n",
    "parser.add_argument(\"-i\", \"--input\", help=\"Input file\")\n",
    "\n",
    "# 手动移除 Jupyter Notebook 传入的参数\n",
    "sys.argv = sys.argv[:1]\n",
    "\n",
    "# 解析命令行参数\n",
    "args = parser.parse_args()\n",
    "\n",
    "# 使用参数\n",
    "print(\"Input file:\", args.input)"
   ]
  },
  {
   "cell_type": "markdown",
   "metadata": {},
   "source": [
    "使用 sys.argv 来访问所有的命令行参数："
   ]
  },
  {
   "cell_type": "code",
   "execution_count": 17,
   "metadata": {},
   "outputs": [
    {
     "name": "stdout",
     "output_type": "stream",
     "text": [
      "所有命令行参数:\n",
      "参数 0: notebook_name\n"
     ]
    }
   ],
   "source": [
    "import sys\n",
    "\n",
    "# 打印所有命令行参数\n",
    "print(\"所有命令行参数:\")\n",
    "for index, arg in enumerate(sys.argv):\n",
    "    print(f\"参数 {index}: {arg}\")"
   ]
  },
  {
   "cell_type": "code",
   "execution_count": 18,
   "metadata": {},
   "outputs": [
    {
     "name": "stdout",
     "output_type": "stream",
     "text": [
      "所有命令行参数:\n",
      "参数 0: notebook_name\n",
      "参数 1: --input\n",
      "参数 2: example.txt\n",
      "参数 3: --output\n",
      "参数 4: result.txt\n"
     ]
    }
   ],
   "source": [
    "import sys\n",
    "\n",
    "# 模拟命令行参数\n",
    "sys.argv = [\"notebook_name\", \"--input\", \"example.txt\", \"--output\", \"result.txt\"]\n",
    "\n",
    "# 打印所有命令行参数\n",
    "print(\"所有命令行参数:\")\n",
    "for index, arg in enumerate(sys.argv):\n",
    "    print(f\"参数 {index}: {arg}\")"
   ]
  },
  {
   "cell_type": "markdown",
   "metadata": {},
   "source": [
    "使用举例："
   ]
  },
  {
   "cell_type": "code",
   "execution_count": 19,
   "metadata": {},
   "outputs": [
    {
     "name": "stderr",
     "output_type": "stream",
     "text": [
      "usage: notebook_name [-h] [-gf {jingjing,lihuan}] [--house HOUSE] food\n",
      "notebook_name: error: unrecognized arguments: --input --output result.txt\n"
     ]
    },
    {
     "ename": "SystemExit",
     "evalue": "2",
     "output_type": "error",
     "traceback": [
      "An exception has occurred, use %tb to see the full traceback.\n",
      "\u001b[1;31mSystemExit\u001b[0m\u001b[1;31m:\u001b[0m 2\n"
     ]
    }
   ],
   "source": [
    "import argparse\n",
    "\n",
    "parser = argparse.ArgumentParser(description=\"description\")\n",
    "\n",
    "parser.add_argument(\"-gf\", \"--girlfriend\", choices=[\"jingjing\", \"lihuan\"])\n",
    "parser.add_argument(\"food\")\n",
    "parser.add_argument(\"--house\", type=int, default=0)\n",
    "\n",
    "args = parser.parse_args()\n",
    "print(\"args :\", args)\n",
    "print(\"girlfriend :\", args.girlfriend)\n",
    "print(\"food :\", args.food)\n",
    "print(\"house :\", args.house)"
   ]
  },
  {
   "cell_type": "markdown",
   "metadata": {
    "vscode": {
     "languageId": "ini"
    }
   },
   "source": [
    "在 Jupyter Notebook 中无法直接像在终端中那样传递命令行参数，但可以模拟命令行参数来执行的脚本："
   ]
  },
  {
   "cell_type": "code",
   "execution_count": 20,
   "metadata": {},
   "outputs": [
    {
     "name": "stdout",
     "output_type": "stream",
     "text": [
      "args : Namespace(girlfriend='jingjing', food='pizza', house=1)\n",
      "girlfriend : jingjing\n",
      "food : pizza\n",
      "house : 1\n"
     ]
    }
   ],
   "source": [
    "import argparse\n",
    "import sys\n",
    "\n",
    "# 模拟命令行参数\n",
    "sys.argv = [\"notebook_name\", \"-gf\", \"jingjing\", \"pizza\", \"--house\", \"1\"]\n",
    "\n",
    "parser = argparse.ArgumentParser(description=\"description\")\n",
    "\n",
    "parser.add_argument(\"-gf\", \"--girlfriend\", choices=[\"jingjing\", \"lihuan\"])\n",
    "parser.add_argument(\"food\")\n",
    "parser.add_argument(\"--house\", type=int, default=0)\n",
    "\n",
    "args = parser.parse_args()\n",
    "print(\"args :\", args)\n",
    "print(\"girlfriend :\", args.girlfriend)\n",
    "print(\"food :\", args.food)\n",
    "print(\"house :\", args.house)"
   ]
  },
  {
   "cell_type": "markdown",
   "metadata": {},
   "source": [
    "# 使用详解\n",
    "## 导入argparse模块，并创建 ArgumentParser 对象"
   ]
  },
  {
   "cell_type": "code",
   "execution_count": 21,
   "metadata": {},
   "outputs": [],
   "source": [
    "import argparse\n",
    "\n",
    "# 创建解释器\n",
    "parser = argparse.ArgumentParser(description=\"这里是一段描述文字\")"
   ]
  },
  {
   "cell_type": "markdown",
   "metadata": {},
   "source": [
    "description 可写可不写，如果写的话，当用户没有正确使用命令行参数时，比如遗漏了必需的参数，argparse会显示错误信息，并且description指定的描述信息 也会被包括在错误信息中，一并被打印出来"
   ]
  },
  {
   "cell_type": "markdown",
   "metadata": {},
   "source": [
    "## 添加所需参数 \n",
    "例 1、"
   ]
  },
  {
   "cell_type": "code",
   "execution_count": 22,
   "metadata": {},
   "outputs": [
    {
     "data": {
      "text/plain": [
       "_StoreAction(option_strings=['-gf', '--girlfriend'], dest='girlfriend', nargs=None, const=None, default=None, type=None, choices=['jingjing', 'lihuan'], required=False, help=None, metavar=None)"
      ]
     },
     "execution_count": 22,
     "metadata": {},
     "output_type": "execute_result"
    }
   ],
   "source": [
    "parser.add_argument(\"-gf\", \"--girlfriend\", choices=[\"jingjing\", \"lihuan\"])"
   ]
  },
  {
   "cell_type": "markdown",
   "metadata": {},
   "source": [
    "  - -gf 参数名缩写，在命令行输入 -gf 和 --girlfriend 的效果是一样的\n",
    "  - --girlfriend 完整的参数名称，需要注意的是，在解析后，在代码中想要调用该参数，只能使用完整的参数名称args.girlfriend， 使用 args.gf 则会报错\n",
    "  - choices 表示参数值只能是这个choices里面的内容，其他内容则会保错"
   ]
  },
  {
   "cell_type": "markdown",
   "metadata": {},
   "source": [
    "  例 2、"
   ]
  },
  {
   "cell_type": "code",
   "execution_count": 23,
   "metadata": {},
   "outputs": [
    {
     "data": {
      "text/plain": [
       "_StoreAction(option_strings=[], dest='food', nargs=None, const=None, default=None, type=None, choices=None, required=True, help=None, metavar=None)"
      ]
     },
     "execution_count": 23,
     "metadata": {},
     "output_type": "execute_result"
    }
   ],
   "source": [
    "parser.add_argument(\"food\")"
   ]
  },
  {
   "cell_type": "markdown",
   "metadata": {},
   "source": [
    "  不带 \"--\" 的方式指定参数 ：\n",
    "  - 必须给该参数指定参数值，不指定的话会报错\n",
    "  - 输入该参数不需要指定参数名称，解释器会自动将输入的参数赋值给food，指定名称的话，反而会报错"
   ]
  },
  {
   "cell_type": "markdown",
   "metadata": {},
   "source": [
    "  例 3、"
   ]
  },
  {
   "cell_type": "code",
   "execution_count": 24,
   "metadata": {},
   "outputs": [
    {
     "data": {
      "text/plain": [
       "_StoreAction(option_strings=['--house'], dest='house', nargs=None, const=None, default=0, type=<class 'int'>, choices=None, required=False, help=None, metavar=None)"
      ]
     },
     "execution_count": 24,
     "metadata": {},
     "output_type": "execute_result"
    }
   ],
   "source": [
    "parser.add_argument(\"--house\", type=int, default=0)"
   ]
  },
  {
   "cell_type": "markdown",
   "metadata": {},
   "source": [
    "  - type  代表输入参数的类型，从命令行输入的参数，默认是字符串类型\n",
    "    - 参数 type 常用值有 ：int、 float、 str、bool\n",
    "  - default 如果不指定该参数的值，则会使用该默认值"
   ]
  },
  {
   "cell_type": "markdown",
   "metadata": {},
   "source": [
    "  例 4、"
   ]
  },
  {
   "cell_type": "code",
   "execution_count": 25,
   "metadata": {},
   "outputs": [
    {
     "data": {
      "text/plain": [
       "_StoreAction(option_strings=['--modelname', '-m'], dest='modelname', nargs=None, const=None, default=None, type=<class 'str'>, choices=['model_A', 'model_B'], required=True, help=None, metavar=None)"
      ]
     },
     "execution_count": 25,
     "metadata": {},
     "output_type": "execute_result"
    }
   ],
   "source": [
    "parser.add_argument(\n",
    "    \"--modelname\", \"-m\", type=str, required=True, choices=[\"model_A\", \"model_B\"]\n",
    ")"
   ]
  },
  {
   "cell_type": "markdown",
   "metadata": {},
   "source": [
    "  - required 参数用于指定参数是否必需。如果设置为 True，则在命令行中必须提供该参数，否则将引发异常。"
   ]
  },
  {
   "cell_type": "markdown",
   "metadata": {},
   "source": [
    "## 解析参数"
   ]
  },
  {
   "cell_type": "code",
   "execution_count": 26,
   "metadata": {},
   "outputs": [],
   "source": [
    "# 模拟命令行参数\n",
    "sys.argv = [\n",
    "    \"notebook_name\",\n",
    "    \"-gf\",\n",
    "    \"jingjing\",\n",
    "    \"pizza\",\n",
    "    \"--house\",\n",
    "    \"1\",\n",
    "    \"--modelname\",\n",
    "    \"model_A\",\n",
    "]\n",
    "\n",
    "# 进行参数解析\n",
    "args = parser.parse_args()"
   ]
  }
 ],
 "metadata": {
  "kernelspec": {
   "display_name": "test",
   "language": "python",
   "name": "python3"
  },
  "language_info": {
   "codemirror_mode": {
    "name": "ipython",
    "version": 3
   },
   "file_extension": ".py",
   "mimetype": "text/x-python",
   "name": "python",
   "nbconvert_exporter": "python",
   "pygments_lexer": "ipython3",
   "version": "3.10.14"
  }
 },
 "nbformat": 4,
 "nbformat_minor": 2
}
