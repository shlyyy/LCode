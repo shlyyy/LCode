{
 "cells": [
  {
   "cell_type": "markdown",
   "metadata": {},
   "source": [
    "# 路径操作 os.path\n",
    "1) 组合路径\n",
    "   - os.path.join(path1， path2， ...):  将多个路径组合成一个路径。它会根据你的操作系统规范，使用适当的路径分隔符\n",
    "  \n",
    "2) 获取绝对路径\n",
    "   - os.path.abspath(path): 返回指定路径的绝对路径\n",
    "    \n",
    "3) 获取文件名\n",
    "   - os.path.basename(path): 返回路径中的文件名\n",
    "    \n",
    "4) 获取目录路径\n",
    "   - os.path.dirname(path): 返回路径中的目录部分\n",
    "    \n",
    "5) 文件/文件夹是否存在\n",
    "   - os.path.exists(path):  判断路径(文件/文件夹) 是否存在  \n",
    "6) 分离文件名和拓展名\n",
    "   - os.path.splitext(path):  分离文件名和扩展名，返回一个包含 路径和文件扩展名 的元组"
   ]
  },
  {
   "cell_type": "code",
   "execution_count": 15,
   "metadata": {},
   "outputs": [
    {
     "name": "stdout",
     "output_type": "stream",
     "text": [
      "f:\\LearningCode\\python_basic\\os.ipynb\n"
     ]
    }
   ],
   "source": [
    "import os\n",
    "\n",
    "path = os.path.join(os.getcwd(), \"os.ipynb\")\n",
    "print(path)"
   ]
  },
  {
   "cell_type": "code",
   "execution_count": 16,
   "metadata": {},
   "outputs": [
    {
     "name": "stdout",
     "output_type": "stream",
     "text": [
      "f:\\LearningCode\\python_basic\\os.ipynb\n"
     ]
    }
   ],
   "source": [
    "import os\n",
    "\n",
    "absolute_path = os.path.abspath(\"os.ipynb\")\n",
    "print(absolute_path)"
   ]
  },
  {
   "cell_type": "code",
   "execution_count": 17,
   "metadata": {},
   "outputs": [
    {
     "name": "stdout",
     "output_type": "stream",
     "text": [
      "f:\\LearningCode\\python_basic\\os.ipynb\n",
      "os.ipynb\n"
     ]
    }
   ],
   "source": [
    "import os\n",
    "\n",
    "path = os.path.join(os.getcwd(), \"os.ipynb\")\n",
    "print(path)\n",
    "filename = os.path.basename(path)\n",
    "print(filename)"
   ]
  },
  {
   "cell_type": "code",
   "execution_count": 18,
   "metadata": {},
   "outputs": [
    {
     "name": "stdout",
     "output_type": "stream",
     "text": [
      "f:\\LearningCode\\python_basic\\os.ipynb\n",
      "f:\\LearningCode\\python_basic\n"
     ]
    }
   ],
   "source": [
    "import os\n",
    "\n",
    "path = os.path.join(os.getcwd(), \"os.ipynb\")\n",
    "print(path)\n",
    "directory = os.path.dirname(path)\n",
    "print(directory)"
   ]
  },
  {
   "cell_type": "code",
   "execution_count": 19,
   "metadata": {},
   "outputs": [
    {
     "name": "stdout",
     "output_type": "stream",
     "text": [
      "File exists!\n"
     ]
    }
   ],
   "source": [
    "import os\n",
    "\n",
    "if os.path.exists(os.path.join(os.getcwd(), \"os.ipynb\")):\n",
    "    print(\"File exists!\")"
   ]
  },
  {
   "cell_type": "code",
   "execution_count": 20,
   "metadata": {},
   "outputs": [
    {
     "name": "stdout",
     "output_type": "stream",
     "text": [
      "f:\\LearningCode\\python_basic\\os.ipynb\n",
      "f:\\LearningCode\\python_basic\\os\n",
      ".ipynb\n"
     ]
    }
   ],
   "source": [
    "import os\n",
    "\n",
    "path = os.path.join(os.getcwd(), \"os.ipynb\")\n",
    "print(path)\n",
    "filename, extension = os.path.splitext(path)\n",
    "print(filename)\n",
    "print(extension)"
   ]
  },
  {
   "cell_type": "markdown",
   "metadata": {},
   "source": [
    "# 目录操作\n",
    "1) 创建目录\n",
    "   - os.mkdir(path): 创建单级目录。如果目录已经存在，则抛出 FileExistsError\n",
    "   - os.makedirs(path): 创建多级目录。递归地创建整个路径中缺失的目录  \n",
    "2) 删除目录\n",
    "   - os.rmdir(path): 删除单级目录。如果目录非空，抛出 OSError。\n",
    "   - os.removedirs(path): 递归删除多级目录，从最深层的空目录逐级删除。  \n",
    "3) 获取目录内容\n",
    "   - os.listdir(path): 返回指定目录中的文件和子目录列表。  \n",
    "4) 是否是一个目录\n",
    "   - os.path.isdir(path):  判断路径是否是一个目录  \n",
    "5) 切换当前工作目录\n",
    "   - os.chdir(path): 切换当前工作目录到指定的路径。"
   ]
  },
  {
   "cell_type": "code",
   "execution_count": 21,
   "metadata": {},
   "outputs": [],
   "source": [
    "import os\n",
    "\n",
    "os.mkdir(\"new_directory\")\n",
    "os.makedirs(\"nested/directory/structure\")"
   ]
  },
  {
   "cell_type": "code",
   "execution_count": 22,
   "metadata": {},
   "outputs": [],
   "source": [
    "import os\n",
    "\n",
    "os.rmdir(\"new_directory\")\n",
    "os.removedirs(\"nested/directory/structure\")"
   ]
  },
  {
   "cell_type": "code",
   "execution_count": 23,
   "metadata": {},
   "outputs": [
    {
     "name": "stdout",
     "output_type": "stream",
     "text": [
      "['argparse.ipynb', 'os.ipynb', 'pathlib.ipynb', 'test_file.txt']\n"
     ]
    }
   ],
   "source": [
    "import os\n",
    "\n",
    "contents = os.listdir(\".\")\n",
    "print(contents)"
   ]
  },
  {
   "cell_type": "code",
   "execution_count": 24,
   "metadata": {},
   "outputs": [
    {
     "name": "stdout",
     "output_type": "stream",
     "text": [
      "It's a directory!\n"
     ]
    }
   ],
   "source": [
    "import os\n",
    "\n",
    "if os.path.isdir(\"f:\\LearningCode\\python_basic\"):\n",
    "    print(\"It's a directory!\")"
   ]
  },
  {
   "cell_type": "code",
   "execution_count": 25,
   "metadata": {},
   "outputs": [],
   "source": [
    "import os\n",
    "\n",
    "# os.chdir(\"..\")\n",
    "# contents = os.listdir(\".\")\n",
    "# print(contents)"
   ]
  },
  {
   "cell_type": "markdown",
   "metadata": {},
   "source": [
    "# 文件操作\n",
    "1) 文件重命名\n",
    "   - os.rename(src, dst): 重命名文件或目录  \n",
    "2) 删除文件\n",
    "   - os.remove(path): 删除文件。  \n",
    "3) 获取文件信息\n",
    "   - os.stat(path): 返回指定路径的文件信息。  \n",
    "4) 是否是一个文件\n",
    "   - os.path.isfile(path):  判断路径是否是一个文件"
   ]
  },
  {
   "cell_type": "code",
   "execution_count": 26,
   "metadata": {},
   "outputs": [
    {
     "name": "stdout",
     "output_type": "stream",
     "text": [
      "文件 'test_file.txt' 已经存在\n"
     ]
    }
   ],
   "source": [
    "import os\n",
    "\n",
    "# 定义文件路径\n",
    "file_path = \"test_file.txt\"\n",
    "\n",
    "# 检查文件是否已经存在\n",
    "if not os.path.exists(file_path):\n",
    "    # 创建文件并写入内容\n",
    "    with open(file_path, \"w\") as file:\n",
    "        file.write(\"love\")  # 向文件中写入内容\n",
    "    print(f\"文件 '{file_path}' 创建成功并写入 'love'\")\n",
    "else:\n",
    "    print(f\"文件 '{file_path}' 已经存在\")"
   ]
  },
  {
   "cell_type": "code",
   "execution_count": 27,
   "metadata": {},
   "outputs": [],
   "source": [
    "import os\n",
    "\n",
    "os.rename(\"test_file.txt\", \"new_file.txt\")"
   ]
  },
  {
   "cell_type": "code",
   "execution_count": 28,
   "metadata": {},
   "outputs": [
    {
     "name": "stdout",
     "output_type": "stream",
     "text": [
      "os.stat_result(st_mode=33206, st_ino=1407374883720311, st_dev=1556581186, st_nlink=1, st_uid=0, st_gid=0, st_size=4, st_atime=1726563719, st_mtime=1726563719, st_ctime=1726563719)\n",
      "文件修改时间: Tue Sep 17 17:01:59 2024\n"
     ]
    }
   ],
   "source": [
    "import os\n",
    "\n",
    "file_info = os.stat(\"new_file.txt\")\n",
    "\n",
    "print(file_info)\n",
    "\n",
    "import time\n",
    "\n",
    "# 获取修改时间（time.ctime() 可以将时间戳转换为可读时间）\n",
    "modification_time = time.ctime(file_info.st_mtime)\n",
    "\n",
    "print(\"文件修改时间:\", modification_time)"
   ]
  },
  {
   "cell_type": "code",
   "execution_count": 29,
   "metadata": {},
   "outputs": [
    {
     "name": "stdout",
     "output_type": "stream",
     "text": [
      "It's a file!\n"
     ]
    }
   ],
   "source": [
    "import os\n",
    "\n",
    "if os.path.isfile(r\"F:\\LearningCode\\python_basic\\new_file.txt\"):\n",
    "    print(\"It's a file!\")"
   ]
  },
  {
   "cell_type": "code",
   "execution_count": 30,
   "metadata": {},
   "outputs": [],
   "source": [
    "import os\n",
    "\n",
    "os.remove(\"new_file.txt\")"
   ]
  }
 ],
 "metadata": {
  "kernelspec": {
   "display_name": "didl",
   "language": "python",
   "name": "python3"
  },
  "language_info": {
   "codemirror_mode": {
    "name": "ipython",
    "version": 3
   },
   "file_extension": ".py",
   "mimetype": "text/x-python",
   "name": "python",
   "nbconvert_exporter": "python",
   "pygments_lexer": "ipython3",
   "version": "3.9.19"
  }
 },
 "nbformat": 4,
 "nbformat_minor": 2
}
