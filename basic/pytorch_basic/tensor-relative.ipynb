{
 "cells": [
  {
   "cell_type": "markdown",
   "id": "a744713b37ee9bde",
   "metadata": {},
   "source": [
    "# 第一节 tensor内部存储结构"
   ]
  },
  {
   "cell_type": "markdown",
   "id": "b94abf85d44dfe68",
   "metadata": {},
   "source": [
    "## "
   ]
  },
  {
   "cell_type": "code",
   "execution_count": null,
   "id": "8c0912f6a350d8fc",
   "metadata": {},
   "outputs": [],
   "source": []
  }
 ],
 "metadata": {
  "kernelspec": {
   "display_name": "Python 3",
   "language": "python",
   "name": "python3"
  },
  "language_info": {
   "codemirror_mode": {
    "name": "ipython",
    "version": 2
   },
   "file_extension": ".py",
   "mimetype": "text/x-python",
   "name": "python",
   "nbconvert_exporter": "python",
   "pygments_lexer": "ipython2",
   "version": "3.9.19"
  }
 },
 "nbformat": 4,
 "nbformat_minor": 5
}
