{
 "cells": [
  {
   "cell_type": "markdown",
   "metadata": {},
   "source": [
    "pathlib模块是Python标准库的一部分。它在Python 3.4版本中首次引入，提供了一种面向对象的文件系统路径表示方式。"
   ]
  },
  {
   "cell_type": "markdown",
   "metadata": {},
   "source": [
    "# 获取路径、拼接路径"
   ]
  },
  {
   "cell_type": "code",
   "metadata": {
    "ExecuteTime": {
     "end_time": "2024-09-17T09:03:06.718370Z",
     "start_time": "2024-09-17T09:03:06.712855Z"
    }
   },
   "source": [
    "from pathlib import Path\n",
    "\n",
    "print(Path.home())\n",
    "print(Path.cwd())\n",
    "file_path = Path.cwd() / \"pathlib.ipynb\"\n",
    "print(file_path)"
   ],
   "outputs": [
    {
     "name": "stdout",
     "output_type": "stream",
     "text": [
      "C:\\Users\\shlyyy\n",
      "F:\\LearningCode\\python_basic\n",
      "F:\\LearningCode\\python_basic\\pathlib.ipynb\n"
     ]
    }
   ],
   "execution_count": 1
  },
  {
   "cell_type": "markdown",
   "metadata": {},
   "source": [
    "# 常用属性"
   ]
  },
  {
   "cell_type": "code",
   "metadata": {
    "ExecuteTime": {
     "end_time": "2024-09-17T09:03:23.958290Z",
     "start_time": "2024-09-17T09:03:23.953755Z"
    }
   },
   "source": [
    "from pathlib import Path\n",
    "\n",
    "# 生成路径对象\n",
    "path = Path(r\"f:\\LearningCode\\python_basic\\pathlib.ipynb\")\n",
    "print(path)\n",
    "print(path.name)\n",
    "print(path.stem)\n",
    "print(path.suffix)\n",
    "print(path.anchor)\n",
    "print(path.parent)\n",
    "print(path.parent.parent)"
   ],
   "outputs": [
    {
     "name": "stdout",
     "output_type": "stream",
     "text": [
      "f:\\LearningCode\\python_basic\\pathlib.ipynb\n",
      "pathlib.ipynb\n",
      "pathlib\n",
      ".ipynb\n",
      "f:\\\n",
      "f:\\LearningCode\\python_basic\n",
      "f:\\LearningCode\n"
     ]
    }
   ],
   "execution_count": 3
  },
  {
   "cell_type": "code",
   "execution_count": 7,
   "metadata": {},
   "outputs": [
    {
     "ename": "NameError",
     "evalue": "name '__file__' is not defined",
     "output_type": "error",
     "traceback": [
      "\u001B[1;31m---------------------------------------------------------------------------\u001B[0m",
      "\u001B[1;31mNameError\u001B[0m                                 Traceback (most recent call last)",
      "Cell \u001B[1;32mIn[7], line 4\u001B[0m\n\u001B[0;32m      1\u001B[0m \u001B[38;5;28;01mfrom\u001B[39;00m \u001B[38;5;21;01mpathlib\u001B[39;00m \u001B[38;5;28;01mimport\u001B[39;00m Path\n\u001B[0;32m      3\u001B[0m \u001B[38;5;66;03m# 获取当前脚本所在的目录路径\u001B[39;00m\n\u001B[1;32m----> 4\u001B[0m \u001B[38;5;28mprint\u001B[39m(\u001B[38;5;18;43m__file__\u001B[39;49m)\n\u001B[0;32m      6\u001B[0m FILE \u001B[38;5;241m=\u001B[39m Path(\u001B[38;5;18m__file__\u001B[39m)\n\u001B[0;32m      7\u001B[0m \u001B[38;5;28mprint\u001B[39m(FILE)\n",
      "\u001B[1;31mNameError\u001B[0m: name '__file__' is not defined"
     ]
    }
   ],
   "source": [
    "from pathlib import Path\n",
    "\n",
    "# 获取当前脚本所在的目录路径\n",
    "print(__file__)\n",
    "\n",
    "FILE = Path(__file__)\n",
    "print(FILE)"
   ]
  },
  {
   "cell_type": "markdown",
   "metadata": {},
   "source": [
    "# 获取绝对路径 .resolve()"
   ]
  },
  {
   "cell_type": "code",
   "metadata": {
    "ExecuteTime": {
     "end_time": "2024-09-17T09:03:31.214662Z",
     "start_time": "2024-09-17T09:03:31.210802Z"
    }
   },
   "source": [
    "from pathlib import Path\n",
    "\n",
    "path = Path(\"pathlib.ipynb\")\n",
    "print(path)\n",
    "print(path.resolve())"
   ],
   "outputs": [
    {
     "name": "stdout",
     "output_type": "stream",
     "text": [
      "pathlib.ipynb\n",
      "F:\\LearningCode\\python_basic\\pathlib.ipynb\n"
     ]
    }
   ],
   "execution_count": 4
  },
  {
   "cell_type": "markdown",
   "metadata": {},
   "source": [
    "# 获取相对路径 .relative_to()"
   ]
  },
  {
   "cell_type": "code",
   "execution_count": 9,
   "metadata": {},
   "outputs": [
    {
     "name": "stdout",
     "output_type": "stream",
     "text": [
      "pathlib.ipynb\n"
     ]
    }
   ],
   "source": [
    "from pathlib import Path\n",
    "\n",
    "root = \"F:\\LearningCode\\python_basic\"\n",
    "path = Path(\"F:\\LearningCode\\python_basic\\pathlib.ipynb\")\n",
    "print(path.relative_to(root))"
   ]
  },
  {
   "cell_type": "code",
   "execution_count": 10,
   "metadata": {},
   "outputs": [
    {
     "name": "stdout",
     "output_type": "stream",
     "text": [
      "python_basic\\pathlib.ipynb\n"
     ]
    }
   ],
   "source": [
    "from pathlib import Path\n",
    "\n",
    "root = \"F:\\LearningCode\"\n",
    "path = Path(\"F:\\LearningCode\\python_basic\\pathlib.ipynb\")\n",
    "print(path.relative_to(root))"
   ]
  },
  {
   "cell_type": "markdown",
   "metadata": {},
   "source": [
    "# 检查文件是否存在 .exists()"
   ]
  },
  {
   "cell_type": "code",
   "execution_count": 11,
   "metadata": {},
   "outputs": [
    {
     "name": "stdout",
     "output_type": "stream",
     "text": [
      "True\n"
     ]
    }
   ],
   "source": [
    "from pathlib import Path\n",
    "\n",
    "filename = Path(\"F:\\LearningCode\\python_basic\\pathlib.ipynb\")\n",
    "print(filename.exists())"
   ]
  },
  {
   "cell_type": "code",
   "execution_count": 12,
   "metadata": {},
   "outputs": [
    {
     "name": "stdout",
     "output_type": "stream",
     "text": [
      "False\n"
     ]
    }
   ],
   "source": [
    "from pathlib import Path\n",
    "\n",
    "filename = Path(\"F:\\LearningCode\\python_basic\\pathlib.ipynb1\")\n",
    "print(filename.exists())"
   ]
  },
  {
   "cell_type": "markdown",
   "metadata": {},
   "source": [
    "# 更改文件后缀名 .with_suffix()"
   ]
  },
  {
   "cell_type": "code",
   "execution_count": 15,
   "metadata": {},
   "outputs": [
    {
     "name": "stdout",
     "output_type": "stream",
     "text": [
      "f:\\LearningCode\\python_basic\\pathlib.ipynb\n",
      "f:\\LearningCode\\python_basic\\pathlib.py\n"
     ]
    }
   ],
   "source": [
    "from pathlib import Path\n",
    "\n",
    "file_path = Path.cwd() / \"pathlib.ipynb\"\n",
    "print(file_path)\n",
    "new_path = file_path.with_suffix(\".py\")\n",
    "print(new_path)"
   ]
  },
  {
   "cell_type": "markdown",
   "metadata": {},
   "source": [
    "# 创建文件 .touch()"
   ]
  },
  {
   "cell_type": "code",
   "execution_count": 16,
   "metadata": {},
   "outputs": [],
   "source": [
    "from pathlib import Path\n",
    "\n",
    "filename = Path(\"test.py\")\n",
    "if not filename.exists():\n",
    "    filename.touch()"
   ]
  },
  {
   "cell_type": "markdown",
   "metadata": {},
   "source": [
    "# 创建目录 .mkdir()"
   ]
  },
  {
   "cell_type": "code",
   "execution_count": 19,
   "metadata": {},
   "outputs": [],
   "source": [
    "import pathlib\n",
    "\n",
    "# 创建目录\n",
    "pathlib.Path(\"my_dir\").mkdir()"
   ]
  },
  {
   "cell_type": "code",
   "execution_count": 20,
   "metadata": {},
   "outputs": [
    {
     "ename": "FileExistsError",
     "evalue": "[WinError 183] Cannot create a file when that file already exists: 'my_dir'",
     "output_type": "error",
     "traceback": [
      "\u001B[1;31m---------------------------------------------------------------------------\u001B[0m",
      "\u001B[1;31mFileExistsError\u001B[0m                           Traceback (most recent call last)",
      "Cell \u001B[1;32mIn[20], line 4\u001B[0m\n\u001B[0;32m      1\u001B[0m \u001B[38;5;28;01mimport\u001B[39;00m \u001B[38;5;21;01mpathlib\u001B[39;00m\n\u001B[0;32m      3\u001B[0m \u001B[38;5;66;03m# 创建目录\u001B[39;00m\n\u001B[1;32m----> 4\u001B[0m \u001B[43mpathlib\u001B[49m\u001B[38;5;241;43m.\u001B[39;49m\u001B[43mPath\u001B[49m\u001B[43m(\u001B[49m\u001B[38;5;124;43m\"\u001B[39;49m\u001B[38;5;124;43mmy_dir\u001B[39;49m\u001B[38;5;124;43m\"\u001B[39;49m\u001B[43m)\u001B[49m\u001B[38;5;241;43m.\u001B[39;49m\u001B[43mmkdir\u001B[49m\u001B[43m(\u001B[49m\u001B[43m)\u001B[49m\n",
      "File \u001B[1;32md:\\ProgramData\\anaconda3\\envs\\didl\\lib\\pathlib.py:1323\u001B[0m, in \u001B[0;36mPath.mkdir\u001B[1;34m(self, mode, parents, exist_ok)\u001B[0m\n\u001B[0;32m   1319\u001B[0m \u001B[38;5;250m\u001B[39m\u001B[38;5;124;03m\"\"\"\u001B[39;00m\n\u001B[0;32m   1320\u001B[0m \u001B[38;5;124;03mCreate a new directory at this given path.\u001B[39;00m\n\u001B[0;32m   1321\u001B[0m \u001B[38;5;124;03m\"\"\"\u001B[39;00m\n\u001B[0;32m   1322\u001B[0m \u001B[38;5;28;01mtry\u001B[39;00m:\n\u001B[1;32m-> 1323\u001B[0m     \u001B[38;5;28;43mself\u001B[39;49m\u001B[38;5;241;43m.\u001B[39;49m\u001B[43m_accessor\u001B[49m\u001B[38;5;241;43m.\u001B[39;49m\u001B[43mmkdir\u001B[49m\u001B[43m(\u001B[49m\u001B[38;5;28;43mself\u001B[39;49m\u001B[43m,\u001B[49m\u001B[43m \u001B[49m\u001B[43mmode\u001B[49m\u001B[43m)\u001B[49m\n\u001B[0;32m   1324\u001B[0m \u001B[38;5;28;01mexcept\u001B[39;00m \u001B[38;5;167;01mFileNotFoundError\u001B[39;00m:\n\u001B[0;32m   1325\u001B[0m     \u001B[38;5;28;01mif\u001B[39;00m \u001B[38;5;129;01mnot\u001B[39;00m parents \u001B[38;5;129;01mor\u001B[39;00m \u001B[38;5;28mself\u001B[39m\u001B[38;5;241m.\u001B[39mparent \u001B[38;5;241m==\u001B[39m \u001B[38;5;28mself\u001B[39m:\n",
      "\u001B[1;31mFileExistsError\u001B[0m: [WinError 183] Cannot create a file when that file already exists: 'my_dir'"
     ]
    }
   ],
   "source": [
    "import pathlib\n",
    "\n",
    "# 创建目录\n",
    "pathlib.Path(\"my_dir\").mkdir()"
   ]
  },
  {
   "cell_type": "code",
   "execution_count": 21,
   "metadata": {},
   "outputs": [],
   "source": [
    "import pathlib\n",
    "\n",
    "# 创建目录\n",
    "pathlib.Path(\"my_dir\").mkdir(exist_ok=True)"
   ]
  },
  {
   "cell_type": "code",
   "execution_count": 22,
   "metadata": {},
   "outputs": [],
   "source": [
    "import pathlib\n",
    "\n",
    "# 创建父目录\n",
    "pathlib.Path(\"my_dir/sub_dir\").mkdir(parents=True)"
   ]
  },
  {
   "cell_type": "markdown",
   "metadata": {},
   "source": [
    "参数 ：\n",
    "  - path：要创建的目录的路径。可以是字符串 或 Path 对象\n",
    "  - parents：是否创建父目录，默认为 False。如果为 True，则会在创建目标目录之前创建所有必需的父目录。\n",
    "  - exist_ok：如果目录已存在，是否继续创建\n",
    "    - 若设置为 True，则在目录已经存在的情况下不会引发异常，会忽略这个操作并继续执行后续代码。\n",
    "    - 若设置为 False（默认值），则在目录已经存在的情况下引发 FileExistsError 异常。"
   ]
  }
 ],
 "metadata": {
  "kernelspec": {
   "display_name": "didl",
   "language": "python",
   "name": "didl"
  },
  "language_info": {
   "codemirror_mode": {
    "name": "ipython",
    "version": 3
   },
   "file_extension": ".py",
   "mimetype": "text/x-python",
   "name": "python",
   "nbconvert_exporter": "python",
   "pygments_lexer": "ipython3",
   "version": "3.9.19"
  }
 },
 "nbformat": 4,
 "nbformat_minor": 2
}
